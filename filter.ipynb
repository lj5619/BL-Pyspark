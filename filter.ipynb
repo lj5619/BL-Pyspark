{
 "cells": [
  {
   "cell_type": "code",
   "execution_count": 1,
   "id": "3cc7e1fc",
   "metadata": {},
   "outputs": [],
   "source": [
    "import pyspark"
   ]
  },
  {
   "cell_type": "code",
   "execution_count": 4,
   "id": "ad6fe104",
   "metadata": {},
   "outputs": [
    {
     "data": {
      "text/html": [
       "\n",
       "            <div>\n",
       "                <p><b>SparkSession - in-memory</b></p>\n",
       "                \n",
       "        <div>\n",
       "            <p><b>SparkContext</b></p>\n",
       "\n",
       "            <p><a href=\"http://10.9.150.72:4041\">Spark UI</a></p>\n",
       "\n",
       "            <dl>\n",
       "              <dt>Version</dt>\n",
       "                <dd><code>v3.5.5</code></dd>\n",
       "              <dt>Master</dt>\n",
       "                <dd><code>local[*]</code></dd>\n",
       "              <dt>AppName</dt>\n",
       "                <dd><code>Filter operations</code></dd>\n",
       "            </dl>\n",
       "        </div>\n",
       "        \n",
       "            </div>\n",
       "        "
      ],
      "text/plain": [
       "<pyspark.sql.session.SparkSession at 0x162d0364ec0>"
      ]
     },
     "execution_count": 4,
     "metadata": {},
     "output_type": "execute_result"
    }
   ],
   "source": [
    "from pyspark.sql import SparkSession\n",
    "spark = SparkSession.builder.appName('Filter operations').getOrCreate()\n",
    "spark"
   ]
  },
  {
   "cell_type": "code",
   "execution_count": 9,
   "id": "901417d3",
   "metadata": {},
   "outputs": [
    {
     "name": "stdout",
     "output_type": "stream",
     "text": [
      "+-------------------+---------+------+---------+------+---------+----------+-------------+------------------+---------------------+----------------------+-------------------+-------------+-----------------+--------------------+\n",
      "|     Country/Region|Confirmed|Deaths|Recovered|Active|New cases|New deaths|New recovered|Deaths / 100 Cases|Recovered / 100 Cases|Deaths / 100 Recovered|Confirmed last week|1 week change|1 week % increase|          WHO Region|\n",
      "+-------------------+---------+------+---------+------+---------+----------+-------------+------------------+---------------------+----------------------+-------------------+-------------+-----------------+--------------------+\n",
      "|        Afghanistan|    36263|  1269|    25198|  9796|      106|        10|           18|               3.5|                69.49|                  5.04|              35526|          737|             2.07|Eastern Mediterra...|\n",
      "|            Albania|     4880|   144|     2745|  1991|      117|         6|           63|              2.95|                56.25|                  5.25|               4171|          709|             17.0|              Europe|\n",
      "|            Algeria|    27973|  1163|    18837|  7973|      616|         8|          749|              4.16|                67.34|                  6.17|              23691|         4282|            18.07|              Africa|\n",
      "|            Andorra|      907|    52|      803|    52|       10|         0|            0|              5.73|                88.53|                  6.48|                884|           23|              2.6|              Europe|\n",
      "|             Angola|      950|    41|      242|   667|       18|         1|            0|              4.32|                25.47|                 16.94|                749|          201|            26.84|              Africa|\n",
      "|Antigua and Barbuda|       86|     3|       65|    18|        4|         0|            5|              3.49|                75.58|                  4.62|                 76|           10|            13.16|            Americas|\n",
      "|          Argentina|   167416|  3059|    72575| 91782|     4890|       120|         2057|              1.83|                43.35|                  4.21|             130774|        36642|            28.02|            Americas|\n",
      "|            Armenia|    37390|   711|    26665| 10014|       73|         6|          187|               1.9|                71.32|                  2.67|              34981|         2409|             6.89|              Europe|\n",
      "|          Australia|    15303|   167|     9311|  5825|      368|         6|          137|              1.09|                60.84|                  1.79|              12428|         2875|            23.13|     Western Pacific|\n",
      "|            Austria|    20558|   713|    18246|  1599|       86|         1|           37|              3.47|                88.75|                  3.91|              19743|          815|             4.13|              Europe|\n",
      "|         Azerbaijan|    30446|   423|    23242|  6781|      396|         6|          558|              1.39|                76.34|                  1.82|              27890|         2556|             9.16|              Europe|\n",
      "|            Bahamas|      382|    11|       91|   280|       40|         0|            0|              2.88|                23.82|                 12.09|                174|          208|           119.54|            Americas|\n",
      "|            Bahrain|    39482|   141|    36110|  3231|      351|         1|          421|              0.36|                91.46|                  0.39|              36936|         2546|             6.89|Eastern Mediterra...|\n",
      "|         Bangladesh|   226225|  2965|   125683| 97577|     2772|        37|         1801|              1.31|                55.56|                  2.36|             207453|        18772|             9.05|     South-East Asia|\n",
      "|           Barbados|      110|     7|       94|     9|        0|         0|            0|              6.36|                85.45|                  7.45|                106|            4|             3.77|            Americas|\n",
      "|            Belarus|    67251|   538|    60492|  6221|      119|         4|           67|               0.8|                89.95|                  0.89|              66213|         1038|             1.57|              Europe|\n",
      "|            Belgium|    66428|  9822|    17452| 39154|      402|         1|           14|             14.79|                26.27|                 56.28|              64094|         2334|             3.64|              Europe|\n",
      "|             Belize|       48|     2|       26|    20|        0|         0|            0|              4.17|                54.17|                  7.69|                 40|            8|             20.0|            Americas|\n",
      "|              Benin|     1770|    35|     1036|   699|        0|         0|            0|              1.98|                58.53|                  3.38|               1602|          168|            10.49|              Africa|\n",
      "|             Bhutan|       99|     0|       86|    13|        4|         0|            1|               0.0|                86.87|                     0|                 90|            9|             10.0|     South-East Asia|\n",
      "+-------------------+---------+------+---------+------+---------+----------+-------------+------------------+---------------------+----------------------+-------------------+-------------+-----------------+--------------------+\n",
      "only showing top 20 rows\n",
      "\n"
     ]
    }
   ],
   "source": [
    "df_pyspark = spark.read.csv(r'C:\\Users\\Leon\\Downloads\\covid\\data\\country_wise_latest.csv',header=True,inferSchema=True)\n",
    "df_pyspark.show()"
   ]
  },
  {
   "cell_type": "markdown",
   "id": "b26066ce",
   "metadata": {},
   "source": [
    "Print active cases more than 100000"
   ]
  },
  {
   "cell_type": "code",
   "execution_count": 14,
   "id": "1ca78e9c",
   "metadata": {},
   "outputs": [
    {
     "name": "stdout",
     "output_type": "stream",
     "text": [
      "+--------------+-------+---------------+\n",
      "|Country/Region| Active|     WHO region|\n",
      "+--------------+-------+---------------+\n",
      "|        Brazil| 508116|       Americas|\n",
      "|        Canada| 107514|       Americas|\n",
      "|      Colombia| 117163|       Americas|\n",
      "|        France| 108928|         Europe|\n",
      "|         India| 495499|South-East Asia|\n",
      "|        Russia| 201097|         Europe|\n",
      "|  South Africa| 170537|         Africa|\n",
      "|            US|2816444|       Americas|\n",
      "|United Kingdom| 254427|         Europe|\n",
      "+--------------+-------+---------------+\n",
      "\n"
     ]
    }
   ],
   "source": [
    "df_pyspark.filter(\"Active>100000\").select(['Country/Region','Active','WHO region']).show()"
   ]
  },
  {
   "cell_type": "markdown",
   "id": "b2295a8a",
   "metadata": {},
   "source": [
    "Print confirmed case between 30000 and 50000"
   ]
  },
  {
   "cell_type": "code",
   "execution_count": 16,
   "id": "ad2b5e0c",
   "metadata": {},
   "outputs": [
    {
     "name": "stdout",
     "output_type": "stream",
     "text": [
      "+--------------+---------+------+---------+------+---------+----------+-------------+------------------+---------------------+----------------------+-------------------+-------------+-----------------+--------------------+\n",
      "|Country/Region|Confirmed|Deaths|Recovered|Active|New cases|New deaths|New recovered|Deaths / 100 Cases|Recovered / 100 Cases|Deaths / 100 Recovered|Confirmed last week|1 week change|1 week % increase|          WHO Region|\n",
      "+--------------+---------+------+---------+------+---------+----------+-------------+------------------+---------------------+----------------------+-------------------+-------------+-----------------+--------------------+\n",
      "|   Afghanistan|    36263|  1269|    25198|  9796|      106|        10|           18|               3.5|                69.49|                  5.04|              35526|          737|             2.07|Eastern Mediterra...|\n",
      "|       Armenia|    37390|   711|    26665| 10014|       73|         6|          187|               1.9|                71.32|                  2.67|              34981|         2409|             6.89|              Europe|\n",
      "|    Azerbaijan|    30446|   423|    23242|  6781|      396|         6|          558|              1.39|                76.34|                  1.82|              27890|         2556|             9.16|              Europe|\n",
      "|       Bahrain|    39482|   141|    36110|  3231|      351|         1|          421|              0.36|                91.46|                  0.39|              36936|         2546|             6.89|Eastern Mediterra...|\n",
      "|         Ghana|    33624|   168|    29801|  3655|      655|         0|          307|               0.5|                88.63|                  0.56|              28430|         5194|            18.27|              Africa|\n",
      "|     Guatemala|    45309|  1761|    32455| 11093|      256|        27|          843|              3.89|                71.63|                  5.43|              39039|         6270|            16.06|            Americas|\n",
      "|      Honduras|    39741|  1166|     5039| 33536|      465|        50|          117|              2.93|                12.68|                 23.14|              34611|         5130|            14.82|            Americas|\n",
      "|         Japan|    31142|   998|    21970|  8174|      594|         0|          364|               3.2|                70.55|                  4.54|              25706|         5436|            21.15|     Western Pacific|\n",
      "|    Kyrgyzstan|    33296|  1301|    21205| 10790|      483|        24|          817|              3.91|                63.69|                  6.14|              27143|         6153|            22.67|              Europe|\n",
      "|       Nigeria|    41180|   860|    18203| 22117|      648|         2|          829|              2.09|                 44.2|                  4.72|              37225|         3955|            10.62|              Africa|\n",
      "|        Poland|    43402|  1676|    32856|  8870|      337|         5|          103|              3.86|                 75.7|                   5.1|              40383|         3019|             7.48|              Europe|\n",
      "|       Romania|    45902|  2206|    25794| 17902|     1104|        19|          151|              4.81|                56.19|                  8.55|              38139|         7763|            20.35|              Europe|\n",
      "|   Switzerland|    34477|  1978|    30900|  1599|       65|         1|          200|              5.74|                89.62|                   6.4|              33634|          843|             2.51|              Europe|\n",
      "+--------------+---------+------+---------+------+---------+----------+-------------+------------------+---------------------+----------------------+-------------------+-------------+-----------------+--------------------+\n",
      "\n"
     ]
    }
   ],
   "source": [
    "df_pyspark.filter(\"Confirmed between 30000 and 50000\").show()"
   ]
  },
  {
   "cell_type": "markdown",
   "id": "0e45686a",
   "metadata": {},
   "source": [
    "Not operation"
   ]
  },
  {
   "cell_type": "code",
   "execution_count": 21,
   "id": "67fbe2ca",
   "metadata": {},
   "outputs": [
    {
     "name": "stdout",
     "output_type": "stream",
     "text": [
      "+-------------------+---------+------+---------+------+---------+----------+-------------+------------------+---------------------+----------------------+-------------------+-------------+-----------------+--------------------+\n",
      "|     Country/Region|Confirmed|Deaths|Recovered|Active|New cases|New deaths|New recovered|Deaths / 100 Cases|Recovered / 100 Cases|Deaths / 100 Recovered|Confirmed last week|1 week change|1 week % increase|          WHO Region|\n",
      "+-------------------+---------+------+---------+------+---------+----------+-------------+------------------+---------------------+----------------------+-------------------+-------------+-----------------+--------------------+\n",
      "|            Andorra|      907|    52|      803|    52|       10|         0|            0|              5.73|                88.53|                  6.48|                884|           23|              2.6|              Europe|\n",
      "|Antigua and Barbuda|       86|     3|       65|    18|        4|         0|            5|              3.49|                75.58|                  4.62|                 76|           10|            13.16|            Americas|\n",
      "|            Bahamas|      382|    11|       91|   280|       40|         0|            0|              2.88|                23.82|                 12.09|                174|          208|           119.54|            Americas|\n",
      "|           Barbados|      110|     7|       94|     9|        0|         0|            0|              6.36|                85.45|                  7.45|                106|            4|             3.77|            Americas|\n",
      "|             Belize|       48|     2|       26|    20|        0|         0|            0|              4.17|                54.17|                  7.69|                 40|            8|             20.0|            Americas|\n",
      "|             Bhutan|       99|     0|       86|    13|        4|         0|            1|               0.0|                86.87|                     0|                 90|            9|             10.0|     South-East Asia|\n",
      "|             Brunei|      141|     3|      138|     0|        0|         0|            0|              2.13|                97.87|                  2.17|                141|            0|              0.0|     Western Pacific|\n",
      "|       Burkina Faso|     1100|    53|      926|   121|       14|         0|            6|              4.82|                84.18|                  5.72|               1065|           35|             3.29|              Africa|\n",
      "|              Burma|      350|     6|      292|    52|        0|         0|            2|              1.71|                83.43|                  2.05|                341|            9|             2.64|     South-East Asia|\n",
      "|            Burundi|      378|     1|      301|    76|       17|         0|           22|              0.26|                79.63|                  0.33|                322|           56|            17.39|              Africa|\n",
      "|           Cambodia|      226|     0|      147|    79|        1|         0|            4|               0.0|                65.04|                     0|                171|           55|            32.16|     Western Pacific|\n",
      "|               Chad|      922|    75|      810|    37|        7|         0|            0|              8.13|                87.85|                  9.26|                889|           33|             3.71|              Africa|\n",
      "|            Comoros|      354|     7|      328|    19|        0|         0|            0|              1.98|                92.66|                  2.13|                334|           20|             5.99|              Africa|\n",
      "|               Cuba|     2532|    87|     2351|    94|       37|         0|            2|              3.44|                92.85|                   3.7|               2446|           86|             3.52|            Americas|\n",
      "|             Cyprus|     1060|    19|      852|   189|        3|         0|            0|              1.79|                80.38|                  2.23|               1038|           22|             2.12|              Europe|\n",
      "|           Djibouti|     5059|    58|     4977|    24|        9|         0|           11|              1.15|                98.38|                  1.17|               5020|           39|             0.78|Eastern Mediterra...|\n",
      "|           Dominica|       18|     0|       18|     0|        0|         0|            0|               0.0|                100.0|                     0|                 18|            0|              0.0|            Americas|\n",
      "|            Eritrea|      265|     0|      191|    74|        2|         0|            2|               0.0|                72.08|                     0|                251|           14|             5.58|              Africa|\n",
      "|            Estonia|     2034|    69|     1923|    42|        0|         0|            1|              3.39|                94.54|                  3.59|               2021|           13|             0.64|              Europe|\n",
      "|               Fiji|       27|     0|       18|     9|        0|         0|            0|               0.0|                66.67|                     0|                 27|            0|              0.0|     Western Pacific|\n",
      "+-------------------+---------+------+---------+------+---------+----------+-------------+------------------+---------------------+----------------------+-------------------+-------------+-----------------+--------------------+\n",
      "only showing top 20 rows\n",
      "\n"
     ]
    }
   ],
   "source": [
    "df_pyspark.filter(~(df_pyspark[\"Active\"]>500)).show()"
   ]
  },
  {
   "cell_type": "markdown",
   "id": "e8d60ae8",
   "metadata": {},
   "source": [
    "Get countries where Active cases is less than 10,000 and New deaths are zero."
   ]
  },
  {
   "cell_type": "code",
   "execution_count": 30,
   "id": "edb3a9da",
   "metadata": {},
   "outputs": [
    {
     "name": "stdout",
     "output_type": "stream",
     "text": [
      "+--------------------+---------+------+---------+------+---------+----------+-------------+------------------+---------------------+----------------------+-------------------+-------------+-----------------+---------------+\n",
      "|      Country/Region|Confirmed|Deaths|Recovered|Active|New cases|New deaths|New recovered|Deaths / 100 Cases|Recovered / 100 Cases|Deaths / 100 Recovered|Confirmed last week|1 week change|1 week % increase|     WHO Region|\n",
      "+--------------------+---------+------+---------+------+---------+----------+-------------+------------------+---------------------+----------------------+-------------------+-------------+-----------------+---------------+\n",
      "|             Andorra|      907|    52|      803|    52|       10|         0|            0|              5.73|                88.53|                  6.48|                884|           23|              2.6|         Europe|\n",
      "| Antigua and Barbuda|       86|     3|       65|    18|        4|         0|            5|              3.49|                75.58|                  4.62|                 76|           10|            13.16|       Americas|\n",
      "|             Bahamas|      382|    11|       91|   280|       40|         0|            0|              2.88|                23.82|                 12.09|                174|          208|           119.54|       Americas|\n",
      "|            Barbados|      110|     7|       94|     9|        0|         0|            0|              6.36|                85.45|                  7.45|                106|            4|             3.77|       Americas|\n",
      "|              Belize|       48|     2|       26|    20|        0|         0|            0|              4.17|                54.17|                  7.69|                 40|            8|             20.0|       Americas|\n",
      "|               Benin|     1770|    35|     1036|   699|        0|         0|            0|              1.98|                58.53|                  3.38|               1602|          168|            10.49|         Africa|\n",
      "|              Bhutan|       99|     0|       86|    13|        4|         0|            1|               0.0|                86.87|                     0|                 90|            9|             10.0|South-East Asia|\n",
      "|              Brunei|      141|     3|      138|     0|        0|         0|            0|              2.13|                97.87|                  2.17|                141|            0|              0.0|Western Pacific|\n",
      "|        Burkina Faso|     1100|    53|      926|   121|       14|         0|            6|              4.82|                84.18|                  5.72|               1065|           35|             3.29|         Africa|\n",
      "|               Burma|      350|     6|      292|    52|        0|         0|            2|              1.71|                83.43|                  2.05|                341|            9|             2.64|South-East Asia|\n",
      "|             Burundi|      378|     1|      301|    76|       17|         0|           22|              0.26|                79.63|                  0.33|                322|           56|            17.39|         Africa|\n",
      "|          Cabo Verde|     2328|    22|     1550|   756|       21|         0|          103|              0.95|                66.58|                  1.42|               2071|          257|            12.41|         Africa|\n",
      "|            Cambodia|      226|     0|      147|    79|        1|         0|            4|               0.0|                65.04|                     0|                171|           55|            32.16|Western Pacific|\n",
      "|Central African R...|     4599|    59|     1546|  2994|        0|         0|            0|              1.28|                33.62|                  3.82|               4548|           51|             1.12|         Africa|\n",
      "|                Chad|      922|    75|      810|    37|        7|         0|            0|              8.13|                87.85|                  9.26|                889|           33|             3.71|         Africa|\n",
      "|             Comoros|      354|     7|      328|    19|        0|         0|            0|              1.98|                92.66|                  2.13|                334|           20|             5.99|         Africa|\n",
      "|       Cote d'Ivoire|    15655|    96|    10361|  5198|       59|         0|          183|              0.61|                66.18|                  0.93|              14312|         1343|             9.38|         Africa|\n",
      "|                Cuba|     2532|    87|     2351|    94|       37|         0|            2|              3.44|                92.85|                   3.7|               2446|           86|             3.52|       Americas|\n",
      "|              Cyprus|     1060|    19|      852|   189|        3|         0|            0|              1.79|                80.38|                  2.23|               1038|           22|             2.12|         Europe|\n",
      "|             Denmark|    13761|   613|    12605|   543|      109|         0|           77|              4.45|                 91.6|                  4.86|              13453|          308|             2.29|         Europe|\n",
      "+--------------------+---------+------+---------+------+---------+----------+-------------+------------------+---------------------+----------------------+-------------------+-------------+-----------------+---------------+\n",
      "only showing top 20 rows\n",
      "\n"
     ]
    }
   ],
   "source": [
    "df_pyspark.filter(\"Active < 10000 and `New Deaths` = 0\").show()\n"
   ]
  }
 ],
 "metadata": {
  "kernelspec": {
   "display_name": "Python 3",
   "language": "python",
   "name": "python3"
  },
  "language_info": {
   "codemirror_mode": {
    "name": "ipython",
    "version": 3
   },
   "file_extension": ".py",
   "mimetype": "text/x-python",
   "name": "python",
   "nbconvert_exporter": "python",
   "pygments_lexer": "ipython3",
   "version": "3.13.0"
  }
 },
 "nbformat": 4,
 "nbformat_minor": 5
}
