{
 "cells": [
  {
   "cell_type": "code",
   "execution_count": 1,
   "id": "a6d34963",
   "metadata": {},
   "outputs": [],
   "source": [
    "import pyspark"
   ]
  },
  {
   "cell_type": "code",
   "execution_count": 22,
   "id": "2169dbab",
   "metadata": {},
   "outputs": [
    {
     "data": {
      "text/html": [
       "\n",
       "            <div>\n",
       "                <p><b>SparkSession - in-memory</b></p>\n",
       "                \n",
       "        <div>\n",
       "            <p><b>SparkContext</b></p>\n",
       "\n",
       "            <p><a href=\"http://10.9.150.72:4041\">Spark UI</a></p>\n",
       "\n",
       "            <dl>\n",
       "              <dt>Version</dt>\n",
       "                <dd><code>v3.5.5</code></dd>\n",
       "              <dt>Master</dt>\n",
       "                <dd><code>local[*]</code></dd>\n",
       "              <dt>AppName</dt>\n",
       "                <dd><code>CovidAnalysis</code></dd>\n",
       "            </dl>\n",
       "        </div>\n",
       "        \n",
       "            </div>\n",
       "        "
      ],
      "text/plain": [
       "<pyspark.sql.session.SparkSession at 0x16bff8a8d70>"
      ]
     },
     "execution_count": 22,
     "metadata": {},
     "output_type": "execute_result"
    }
   ],
   "source": [
    "from pyspark.sql import SparkSession\n",
    "from pyspark.sql.functions import col, sum, count, avg, max, desc, when, expr,round\n",
    "\n",
    "spark = SparkSession.builder.appName(\"CovidAnalysis\").getOrCreate()\n",
    "\n",
    "df1 = spark.read.csv(r'C:\\Users\\Leon\\Downloads\\covid\\data\\worldometer_data.csv', header=True, inferSchema=True)\n",
    "df2= spark.read.csv(r'C:\\Users\\Leon\\Downloads\\covid\\data\\covid_vaccine.csv', header=True, inferSchema=True)\n",
    "spark\n"
   ]
  },
  {
   "cell_type": "markdown",
   "id": "33617205",
   "metadata": {},
   "source": [
    "1. To find out the population vs the number of people vaccinated\n"
   ]
  },
  {
   "cell_type": "code",
   "execution_count": 17,
   "id": "525796ba",
   "metadata": {},
   "outputs": [
    {
     "name": "stdout",
     "output_type": "stream",
     "text": [
      "+-------+----------------+----------------------+\n",
      "|Country|Total_Population|Total_Fully_Vaccinated|\n",
      "+-------+----------------+----------------------+\n",
      "| Russia|       145940924|              25000000|\n",
      "|Germany|       167622520|              60000000|\n",
      "|  India|      2762689994|             130000000|\n",
      "|    USA|       993594390|             360000000|\n",
      "|     UK|       135844058|              50000000|\n",
      "| Brazil|       212710692|              30000000|\n",
      "+-------+----------------+----------------------+\n",
      "\n"
     ]
    }
   ],
   "source": [
    "df_joined = df1.join(df2,df1[\"Country/Region\"]==df2[\"Country\"],\"inner\")\n",
    "df_joined=df_joined.groupBy(col(\"Country\")).agg(\n",
    "    sum(\"Population\").alias(\"Total_Population\"),\n",
    "    sum(\"people_fully_vaccinated\").alias(\"Total_Fully_Vaccinated\")\n",
    ")\n",
    "\n",
    "df_joined.select(col(\"Country\"),col(\"Total_Population\"),col(\"Total_Fully_Vaccinated\")).show()\n"
   ]
  },
  {
   "cell_type": "markdown",
   "id": "888868e2",
   "metadata": {},
   "source": [
    "2.  To find out the percentage of different vaccine taken by people in a country"
   ]
  },
  {
   "cell_type": "code",
   "execution_count": 26,
   "id": "2f775d34",
   "metadata": {},
   "outputs": [
    {
     "name": "stdout",
     "output_type": "stream",
     "text": [
      "+--------------+------------------+---------------------+\n",
      "|Country/Region|           vaccine|Percentage of vaccine|\n",
      "+--------------+------------------+---------------------+\n",
      "|           USA|   Johnson&Johnson|                54.35|\n",
      "|           USA|           Moderna|                54.35|\n",
      "|           USA|   Pfizer/BioNTech|                54.35|\n",
      "|        Brazil|Oxford/AstraZeneca|                32.91|\n",
      "|         India|        Covishield|                10.86|\n",
      "|         India|           Covaxin|                10.86|\n",
      "|        Russia|         Sputnik V|                27.41|\n",
      "|            UK|           Moderna|                88.34|\n",
      "|            UK|Oxford/AstraZeneca|                88.34|\n",
      "|       Germany|           Moderna|                71.59|\n",
      "|       Germany|          BioNTech|                71.59|\n",
      "+--------------+------------------+---------------------+\n",
      "\n"
     ]
    }
   ],
   "source": [
    "df_joined = df1.join(df2,df1[\"Country/Region\"]==df2[\"Country\"],\"inner\")\n",
    "df_joined= df_joined.withColumn(\"Percentage of vaccine\",round((col(\"people_vaccinated\") / col(\"Population\")) * 100, 2))\n",
    "df_joined.select(col(\"Country/Region\"),col(\"vaccine\"),col(\"Percentage of vaccine\")).show()\n"
   ]
  }
 ],
 "metadata": {
  "kernelspec": {
   "display_name": "Python 3",
   "language": "python",
   "name": "python3"
  },
  "language_info": {
   "codemirror_mode": {
    "name": "ipython",
    "version": 3
   },
   "file_extension": ".py",
   "mimetype": "text/x-python",
   "name": "python",
   "nbconvert_exporter": "python",
   "pygments_lexer": "ipython3",
   "version": "3.13.0"
  }
 },
 "nbformat": 4,
 "nbformat_minor": 5
}
