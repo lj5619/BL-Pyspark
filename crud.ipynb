{
 "cells": [
  {
   "cell_type": "code",
   "execution_count": 49,
   "id": "34786523",
   "metadata": {},
   "outputs": [],
   "source": [
    "import pyspark\n"
   ]
  },
  {
   "cell_type": "code",
   "execution_count": 50,
   "id": "176a8f1d",
   "metadata": {},
   "outputs": [
    {
     "data": {
      "text/html": [
       "\n",
       "            <div>\n",
       "                <p><b>SparkSession - in-memory</b></p>\n",
       "                \n",
       "        <div>\n",
       "            <p><b>SparkContext</b></p>\n",
       "\n",
       "            <p><a href=\"http://LAPTOP-5EFFBQKA.mshome.net:4040\">Spark UI</a></p>\n",
       "\n",
       "            <dl>\n",
       "              <dt>Version</dt>\n",
       "                <dd><code>v3.5.5</code></dd>\n",
       "              <dt>Master</dt>\n",
       "                <dd><code>local[*]</code></dd>\n",
       "              <dt>AppName</dt>\n",
       "                <dd><code>CRUD_operations</code></dd>\n",
       "            </dl>\n",
       "        </div>\n",
       "        \n",
       "            </div>\n",
       "        "
      ],
      "text/plain": [
       "<pyspark.sql.session.SparkSession at 0x24b1c424ad0>"
      ]
     },
     "execution_count": 50,
     "metadata": {},
     "output_type": "execute_result"
    }
   ],
   "source": [
    "from pyspark.sql import SparkSession\n",
    "spark = SparkSession.builder.appName(\"CRUD_operations\").getOrCreate()\n",
    "spark"
   ]
  },
  {
   "cell_type": "markdown",
   "id": "0c6e3a23",
   "metadata": {},
   "source": [
    "Reading the csv file "
   ]
  },
  {
   "cell_type": "code",
   "execution_count": 51,
   "id": "f987b905",
   "metadata": {},
   "outputs": [
    {
     "name": "stdout",
     "output_type": "stream",
     "text": [
      "+-------------------+---------+------+---------+------+---------+----------+-------------+------------------+---------------------+----------------------+-------------------+-------------+-----------------+--------------------+\n",
      "|     Country/Region|Confirmed|Deaths|Recovered|Active|New cases|New deaths|New recovered|Deaths / 100 Cases|Recovered / 100 Cases|Deaths / 100 Recovered|Confirmed last week|1 week change|1 week % increase|          WHO Region|\n",
      "+-------------------+---------+------+---------+------+---------+----------+-------------+------------------+---------------------+----------------------+-------------------+-------------+-----------------+--------------------+\n",
      "|        Afghanistan|    36263|  1269|    25198|  9796|      106|        10|           18|               3.5|                69.49|                  5.04|              35526|          737|             2.07|Eastern Mediterra...|\n",
      "|            Albania|     4880|   144|     2745|  1991|      117|         6|           63|              2.95|                56.25|                  5.25|               4171|          709|               17|              Europe|\n",
      "|            Algeria|    27973|  1163|    18837|  7973|      616|         8|          749|              4.16|                67.34|                  6.17|              23691|         4282|            18.07|              Africa|\n",
      "|            Andorra|      907|    52|      803|    52|       10|         0|            0|              5.73|                88.53|                  6.48|                884|           23|              2.6|              Europe|\n",
      "|             Angola|      950|    41|      242|   667|       18|         1|            0|              4.32|                25.47|                 16.94|                749|          201|            26.84|              Africa|\n",
      "|Antigua and Barbuda|       86|     3|       65|    18|        4|         0|            5|              3.49|                75.58|                  4.62|                 76|           10|            13.16|            Americas|\n",
      "|          Argentina|   167416|  3059|    72575| 91782|     4890|       120|         2057|              1.83|                43.35|                  4.21|             130774|        36642|            28.02|            Americas|\n",
      "|            Armenia|    37390|   711|    26665| 10014|       73|         6|          187|               1.9|                71.32|                  2.67|              34981|         2409|             6.89|              Europe|\n",
      "|          Australia|    15303|   167|     9311|  5825|      368|         6|          137|              1.09|                60.84|                  1.79|              12428|         2875|            23.13|     Western Pacific|\n",
      "|            Austria|    20558|   713|    18246|  1599|       86|         1|           37|              3.47|                88.75|                  3.91|              19743|          815|             4.13|              Europe|\n",
      "|         Azerbaijan|    30446|   423|    23242|  6781|      396|         6|          558|              1.39|                76.34|                  1.82|              27890|         2556|             9.16|              Europe|\n",
      "|            Bahamas|      382|    11|       91|   280|       40|         0|            0|              2.88|                23.82|                 12.09|                174|          208|           119.54|            Americas|\n",
      "|            Bahrain|    39482|   141|    36110|  3231|      351|         1|          421|              0.36|                91.46|                  0.39|              36936|         2546|             6.89|Eastern Mediterra...|\n",
      "|         Bangladesh|   226225|  2965|   125683| 97577|     2772|        37|         1801|              1.31|                55.56|                  2.36|             207453|        18772|             9.05|     South-East Asia|\n",
      "|           Barbados|      110|     7|       94|     9|        0|         0|            0|              6.36|                85.45|                  7.45|                106|            4|             3.77|            Americas|\n",
      "|            Belarus|    67251|   538|    60492|  6221|      119|         4|           67|               0.8|                89.95|                  0.89|              66213|         1038|             1.57|              Europe|\n",
      "|            Belgium|    66428|  9822|    17452| 39154|      402|         1|           14|             14.79|                26.27|                 56.28|              64094|         2334|             3.64|              Europe|\n",
      "|             Belize|       48|     2|       26|    20|        0|         0|            0|              4.17|                54.17|                  7.69|                 40|            8|               20|            Americas|\n",
      "|              Benin|     1770|    35|     1036|   699|        0|         0|            0|              1.98|                58.53|                  3.38|               1602|          168|            10.49|              Africa|\n",
      "|             Bhutan|       99|     0|       86|    13|        4|         0|            1|                 0|                86.87|                     0|                 90|            9|               10|     South-East Asia|\n",
      "+-------------------+---------+------+---------+------+---------+----------+-------------+------------------+---------------------+----------------------+-------------------+-------------+-----------------+--------------------+\n",
      "only showing top 20 rows\n",
      "\n"
     ]
    }
   ],
   "source": [
    "\n",
    "df_pyspark = spark.read.option('header','true').csv(r\"C:\\Users\\Leon\\Downloads\\covid\\data\\country_wise_latest.csv\")\n",
    "df_pyspark.show()"
   ]
  },
  {
   "cell_type": "markdown",
   "id": "6ee014d2",
   "metadata": {},
   "source": [
    "To print the schema"
   ]
  },
  {
   "cell_type": "code",
   "execution_count": 52,
   "id": "90361d6e",
   "metadata": {},
   "outputs": [
    {
     "name": "stdout",
     "output_type": "stream",
     "text": [
      "root\n",
      " |-- Country/Region: string (nullable = true)\n",
      " |-- Confirmed: string (nullable = true)\n",
      " |-- Deaths: string (nullable = true)\n",
      " |-- Recovered: string (nullable = true)\n",
      " |-- Active: string (nullable = true)\n",
      " |-- New cases: string (nullable = true)\n",
      " |-- New deaths: string (nullable = true)\n",
      " |-- New recovered: string (nullable = true)\n",
      " |-- Deaths / 100 Cases: string (nullable = true)\n",
      " |-- Recovered / 100 Cases: string (nullable = true)\n",
      " |-- Deaths / 100 Recovered: string (nullable = true)\n",
      " |-- Confirmed last week: string (nullable = true)\n",
      " |-- 1 week change: string (nullable = true)\n",
      " |-- 1 week % increase: string (nullable = true)\n",
      " |-- WHO Region: string (nullable = true)\n",
      "\n"
     ]
    }
   ],
   "source": [
    "df_pyspark.printSchema()"
   ]
  },
  {
   "cell_type": "markdown",
   "id": "b0ac6476",
   "metadata": {},
   "source": [
    "print the columns"
   ]
  },
  {
   "cell_type": "code",
   "execution_count": 53,
   "id": "9fc4a351",
   "metadata": {},
   "outputs": [
    {
     "data": {
      "text/plain": [
       "['Country/Region',\n",
       " 'Confirmed',\n",
       " 'Deaths',\n",
       " 'Recovered',\n",
       " 'Active',\n",
       " 'New cases',\n",
       " 'New deaths',\n",
       " 'New recovered',\n",
       " 'Deaths / 100 Cases',\n",
       " 'Recovered / 100 Cases',\n",
       " 'Deaths / 100 Recovered',\n",
       " 'Confirmed last week',\n",
       " '1 week change',\n",
       " '1 week % increase',\n",
       " 'WHO Region']"
      ]
     },
     "execution_count": 53,
     "metadata": {},
     "output_type": "execute_result"
    }
   ],
   "source": [
    "df_pyspark.columns"
   ]
  },
  {
   "cell_type": "markdown",
   "id": "11c3359e",
   "metadata": {},
   "source": [
    "print first 3 rows"
   ]
  },
  {
   "cell_type": "code",
   "execution_count": 54,
   "id": "00c94fdb",
   "metadata": {},
   "outputs": [
    {
     "data": {
      "text/plain": [
       "[Row(Country/Region='Afghanistan', Confirmed='36263', Deaths='1269', Recovered='25198', Active='9796', New cases='106', New deaths='10', New recovered='18', Deaths / 100 Cases='3.5', Recovered / 100 Cases='69.49', Deaths / 100 Recovered='5.04', Confirmed last week='35526', 1 week change='737', 1 week % increase='2.07', WHO Region='Eastern Mediterranean'),\n",
       " Row(Country/Region='Albania', Confirmed='4880', Deaths='144', Recovered='2745', Active='1991', New cases='117', New deaths='6', New recovered='63', Deaths / 100 Cases='2.95', Recovered / 100 Cases='56.25', Deaths / 100 Recovered='5.25', Confirmed last week='4171', 1 week change='709', 1 week % increase='17', WHO Region='Europe'),\n",
       " Row(Country/Region='Algeria', Confirmed='27973', Deaths='1163', Recovered='18837', Active='7973', New cases='616', New deaths='8', New recovered='749', Deaths / 100 Cases='4.16', Recovered / 100 Cases='67.34', Deaths / 100 Recovered='6.17', Confirmed last week='23691', 1 week change='4282', 1 week % increase='18.07', WHO Region='Africa')]"
      ]
     },
     "execution_count": 54,
     "metadata": {},
     "output_type": "execute_result"
    }
   ],
   "source": [
    "df_pyspark.head(3)"
   ]
  },
  {
   "cell_type": "markdown",
   "id": "630c8293",
   "metadata": {},
   "source": [
    "select column"
   ]
  },
  {
   "cell_type": "code",
   "execution_count": 55,
   "id": "6123d87f",
   "metadata": {},
   "outputs": [
    {
     "name": "stdout",
     "output_type": "stream",
     "text": [
      "+-------------------+---------+\n",
      "|     Country/Region|Confirmed|\n",
      "+-------------------+---------+\n",
      "|        Afghanistan|    36263|\n",
      "|            Albania|     4880|\n",
      "|            Algeria|    27973|\n",
      "|            Andorra|      907|\n",
      "|             Angola|      950|\n",
      "|Antigua and Barbuda|       86|\n",
      "|          Argentina|   167416|\n",
      "|            Armenia|    37390|\n",
      "|          Australia|    15303|\n",
      "|            Austria|    20558|\n",
      "|         Azerbaijan|    30446|\n",
      "|            Bahamas|      382|\n",
      "|            Bahrain|    39482|\n",
      "|         Bangladesh|   226225|\n",
      "|           Barbados|      110|\n",
      "|            Belarus|    67251|\n",
      "|            Belgium|    66428|\n",
      "|             Belize|       48|\n",
      "|              Benin|     1770|\n",
      "|             Bhutan|       99|\n",
      "+-------------------+---------+\n",
      "only showing top 20 rows\n",
      "\n"
     ]
    }
   ],
   "source": [
    "df_pyspark.select([\"Country/Region\",\"Confirmed\"]).show()"
   ]
  },
  {
   "cell_type": "markdown",
   "id": "38142a2e",
   "metadata": {},
   "source": [
    "Adding a column"
   ]
  },
  {
   "cell_type": "code",
   "execution_count": 56,
   "id": "06dd8e8d",
   "metadata": {},
   "outputs": [
    {
     "name": "stdout",
     "output_type": "stream",
     "text": [
      "root\n",
      " |-- Country/Region: string (nullable = true)\n",
      " |-- Confirmed: string (nullable = true)\n",
      " |-- Deaths: string (nullable = true)\n",
      " |-- Recovered: string (nullable = true)\n",
      " |-- Active: string (nullable = true)\n",
      " |-- New cases: string (nullable = true)\n",
      " |-- New deaths: string (nullable = true)\n",
      " |-- New recovered: string (nullable = true)\n",
      " |-- Deaths / 100 Cases: string (nullable = true)\n",
      " |-- Recovered / 100 Cases: string (nullable = true)\n",
      " |-- Deaths / 100 Recovered: string (nullable = true)\n",
      " |-- Confirmed last week: string (nullable = true)\n",
      " |-- 1 week change: string (nullable = true)\n",
      " |-- 1 week % increase: string (nullable = true)\n",
      " |-- WHO Region: string (nullable = true)\n",
      " |-- Total confirmed cases: double (nullable = true)\n",
      "\n"
     ]
    }
   ],
   "source": [
    "from pyspark.sql.functions import col\n",
    "df_pyspark = df_pyspark.withColumn('Total confirmed cases',col(\"Confirmed\")+col(\"New cases\"))\n",
    "df_pyspark.printSchema()"
   ]
  },
  {
   "cell_type": "markdown",
   "id": "71b347c9",
   "metadata": {},
   "source": [
    "Drop a column"
   ]
  },
  {
   "cell_type": "code",
   "execution_count": 57,
   "id": "65207ff3",
   "metadata": {},
   "outputs": [
    {
     "name": "stdout",
     "output_type": "stream",
     "text": [
      "+-------------------+---------+------+---------+------+----------+-------------+------------------+---------------------+----------------------+-------------------+-------------+-----------------+--------------------+---------------------+\n",
      "|     Country/Region|Confirmed|Deaths|Recovered|Active|New deaths|New recovered|Deaths / 100 Cases|Recovered / 100 Cases|Deaths / 100 Recovered|Confirmed last week|1 week change|1 week % increase|          WHO Region|Total confirmed cases|\n",
      "+-------------------+---------+------+---------+------+----------+-------------+------------------+---------------------+----------------------+-------------------+-------------+-----------------+--------------------+---------------------+\n",
      "|        Afghanistan|    36263|  1269|    25198|  9796|        10|           18|               3.5|                69.49|                  5.04|              35526|          737|             2.07|Eastern Mediterra...|              36369.0|\n",
      "|            Albania|     4880|   144|     2745|  1991|         6|           63|              2.95|                56.25|                  5.25|               4171|          709|               17|              Europe|               4997.0|\n",
      "|            Algeria|    27973|  1163|    18837|  7973|         8|          749|              4.16|                67.34|                  6.17|              23691|         4282|            18.07|              Africa|              28589.0|\n",
      "|            Andorra|      907|    52|      803|    52|         0|            0|              5.73|                88.53|                  6.48|                884|           23|              2.6|              Europe|                917.0|\n",
      "|             Angola|      950|    41|      242|   667|         1|            0|              4.32|                25.47|                 16.94|                749|          201|            26.84|              Africa|                968.0|\n",
      "|Antigua and Barbuda|       86|     3|       65|    18|         0|            5|              3.49|                75.58|                  4.62|                 76|           10|            13.16|            Americas|                 90.0|\n",
      "|          Argentina|   167416|  3059|    72575| 91782|       120|         2057|              1.83|                43.35|                  4.21|             130774|        36642|            28.02|            Americas|             172306.0|\n",
      "|            Armenia|    37390|   711|    26665| 10014|         6|          187|               1.9|                71.32|                  2.67|              34981|         2409|             6.89|              Europe|              37463.0|\n",
      "|          Australia|    15303|   167|     9311|  5825|         6|          137|              1.09|                60.84|                  1.79|              12428|         2875|            23.13|     Western Pacific|              15671.0|\n",
      "|            Austria|    20558|   713|    18246|  1599|         1|           37|              3.47|                88.75|                  3.91|              19743|          815|             4.13|              Europe|              20644.0|\n",
      "|         Azerbaijan|    30446|   423|    23242|  6781|         6|          558|              1.39|                76.34|                  1.82|              27890|         2556|             9.16|              Europe|              30842.0|\n",
      "|            Bahamas|      382|    11|       91|   280|         0|            0|              2.88|                23.82|                 12.09|                174|          208|           119.54|            Americas|                422.0|\n",
      "|            Bahrain|    39482|   141|    36110|  3231|         1|          421|              0.36|                91.46|                  0.39|              36936|         2546|             6.89|Eastern Mediterra...|              39833.0|\n",
      "|         Bangladesh|   226225|  2965|   125683| 97577|        37|         1801|              1.31|                55.56|                  2.36|             207453|        18772|             9.05|     South-East Asia|             228997.0|\n",
      "|           Barbados|      110|     7|       94|     9|         0|            0|              6.36|                85.45|                  7.45|                106|            4|             3.77|            Americas|                110.0|\n",
      "|            Belarus|    67251|   538|    60492|  6221|         4|           67|               0.8|                89.95|                  0.89|              66213|         1038|             1.57|              Europe|              67370.0|\n",
      "|            Belgium|    66428|  9822|    17452| 39154|         1|           14|             14.79|                26.27|                 56.28|              64094|         2334|             3.64|              Europe|              66830.0|\n",
      "|             Belize|       48|     2|       26|    20|         0|            0|              4.17|                54.17|                  7.69|                 40|            8|               20|            Americas|                 48.0|\n",
      "|              Benin|     1770|    35|     1036|   699|         0|            0|              1.98|                58.53|                  3.38|               1602|          168|            10.49|              Africa|               1770.0|\n",
      "|             Bhutan|       99|     0|       86|    13|         0|            1|                 0|                86.87|                     0|                 90|            9|               10|     South-East Asia|                103.0|\n",
      "+-------------------+---------+------+---------+------+----------+-------------+------------------+---------------------+----------------------+-------------------+-------------+-----------------+--------------------+---------------------+\n",
      "only showing top 20 rows\n",
      "\n"
     ]
    }
   ],
   "source": [
    "df_pyspark = df_pyspark.drop('New cases')\n",
    "df_pyspark.show()"
   ]
  },
  {
   "cell_type": "markdown",
   "id": "02508442",
   "metadata": {},
   "source": [
    "Rename a column"
   ]
  },
  {
   "cell_type": "code",
   "execution_count": 58,
   "id": "5ba29d17",
   "metadata": {},
   "outputs": [
    {
     "name": "stdout",
     "output_type": "stream",
     "text": [
      "+-------------------+---------+------+---------+----------+----------+-------------+------------------+---------------------+----------------------+-------------------+-------------+-----------------+--------------------+---------------------+\n",
      "|     Country/Region|Confirmed|Deaths|Recovered|Active now|New deaths|New recovered|Deaths / 100 Cases|Recovered / 100 Cases|Deaths / 100 Recovered|Confirmed last week|1 week change|1 week % increase|          WHO Region|Total confirmed cases|\n",
      "+-------------------+---------+------+---------+----------+----------+-------------+------------------+---------------------+----------------------+-------------------+-------------+-----------------+--------------------+---------------------+\n",
      "|        Afghanistan|    36263|  1269|    25198|      9796|        10|           18|               3.5|                69.49|                  5.04|              35526|          737|             2.07|Eastern Mediterra...|              36369.0|\n",
      "|            Albania|     4880|   144|     2745|      1991|         6|           63|              2.95|                56.25|                  5.25|               4171|          709|               17|              Europe|               4997.0|\n",
      "|            Algeria|    27973|  1163|    18837|      7973|         8|          749|              4.16|                67.34|                  6.17|              23691|         4282|            18.07|              Africa|              28589.0|\n",
      "|            Andorra|      907|    52|      803|        52|         0|            0|              5.73|                88.53|                  6.48|                884|           23|              2.6|              Europe|                917.0|\n",
      "|             Angola|      950|    41|      242|       667|         1|            0|              4.32|                25.47|                 16.94|                749|          201|            26.84|              Africa|                968.0|\n",
      "|Antigua and Barbuda|       86|     3|       65|        18|         0|            5|              3.49|                75.58|                  4.62|                 76|           10|            13.16|            Americas|                 90.0|\n",
      "|          Argentina|   167416|  3059|    72575|     91782|       120|         2057|              1.83|                43.35|                  4.21|             130774|        36642|            28.02|            Americas|             172306.0|\n",
      "|            Armenia|    37390|   711|    26665|     10014|         6|          187|               1.9|                71.32|                  2.67|              34981|         2409|             6.89|              Europe|              37463.0|\n",
      "|          Australia|    15303|   167|     9311|      5825|         6|          137|              1.09|                60.84|                  1.79|              12428|         2875|            23.13|     Western Pacific|              15671.0|\n",
      "|            Austria|    20558|   713|    18246|      1599|         1|           37|              3.47|                88.75|                  3.91|              19743|          815|             4.13|              Europe|              20644.0|\n",
      "|         Azerbaijan|    30446|   423|    23242|      6781|         6|          558|              1.39|                76.34|                  1.82|              27890|         2556|             9.16|              Europe|              30842.0|\n",
      "|            Bahamas|      382|    11|       91|       280|         0|            0|              2.88|                23.82|                 12.09|                174|          208|           119.54|            Americas|                422.0|\n",
      "|            Bahrain|    39482|   141|    36110|      3231|         1|          421|              0.36|                91.46|                  0.39|              36936|         2546|             6.89|Eastern Mediterra...|              39833.0|\n",
      "|         Bangladesh|   226225|  2965|   125683|     97577|        37|         1801|              1.31|                55.56|                  2.36|             207453|        18772|             9.05|     South-East Asia|             228997.0|\n",
      "|           Barbados|      110|     7|       94|         9|         0|            0|              6.36|                85.45|                  7.45|                106|            4|             3.77|            Americas|                110.0|\n",
      "|            Belarus|    67251|   538|    60492|      6221|         4|           67|               0.8|                89.95|                  0.89|              66213|         1038|             1.57|              Europe|              67370.0|\n",
      "|            Belgium|    66428|  9822|    17452|     39154|         1|           14|             14.79|                26.27|                 56.28|              64094|         2334|             3.64|              Europe|              66830.0|\n",
      "|             Belize|       48|     2|       26|        20|         0|            0|              4.17|                54.17|                  7.69|                 40|            8|               20|            Americas|                 48.0|\n",
      "|              Benin|     1770|    35|     1036|       699|         0|            0|              1.98|                58.53|                  3.38|               1602|          168|            10.49|              Africa|               1770.0|\n",
      "|             Bhutan|       99|     0|       86|        13|         0|            1|                 0|                86.87|                     0|                 90|            9|               10|     South-East Asia|                103.0|\n",
      "+-------------------+---------+------+---------+----------+----------+-------------+------------------+---------------------+----------------------+-------------------+-------------+-----------------+--------------------+---------------------+\n",
      "only showing top 20 rows\n",
      "\n"
     ]
    }
   ],
   "source": [
    "df_pyspark = df_pyspark.withColumnRenamed('Active','Active now')\n",
    "df_pyspark.show()"
   ]
  },
  {
   "cell_type": "markdown",
   "id": "8beb34d3",
   "metadata": {},
   "source": [
    "Select a particular row "
   ]
  },
  {
   "cell_type": "code",
   "execution_count": 59,
   "id": "4f0e9ecf",
   "metadata": {},
   "outputs": [
    {
     "name": "stdout",
     "output_type": "stream",
     "text": [
      "+--------------+---------+------+---------+----------+----------+-------------+------------------+---------------------+----------------------+-------------------+-------------+-----------------+---------------+---------------------+\n",
      "|Country/Region|Confirmed|Deaths|Recovered|Active now|New deaths|New recovered|Deaths / 100 Cases|Recovered / 100 Cases|Deaths / 100 Recovered|Confirmed last week|1 week change|1 week % increase|     WHO Region|Total confirmed cases|\n",
      "+--------------+---------+------+---------+----------+----------+-------------+------------------+---------------------+----------------------+-------------------+-------------+-----------------+---------------+---------------------+\n",
      "|         India|  1480073| 33408|   951166|    495499|       637|        33598|              2.26|                64.26|                  3.51|            1155338|       324735|            28.11|South-East Asia|            1524530.0|\n",
      "+--------------+---------+------+---------+----------+----------+-------------+------------------+---------------------+----------------------+-------------------+-------------+-----------------+---------------+---------------------+\n",
      "\n"
     ]
    }
   ],
   "source": [
    "df_pyspark.where(df_pyspark[\"Country/Region\"]==\"India\").show()"
   ]
  },
  {
   "cell_type": "markdown",
   "id": "cc235597",
   "metadata": {},
   "source": [
    "Delete a particular row"
   ]
  },
  {
   "cell_type": "code",
   "execution_count": 60,
   "id": "c4073995",
   "metadata": {},
   "outputs": [
    {
     "name": "stdout",
     "output_type": "stream",
     "text": [
      "+--------------+---------+------+---------+----------+----------+-------------+------------------+---------------------+----------------------+-------------------+-------------+-----------------+----------+---------------------+\n",
      "|Country/Region|Confirmed|Deaths|Recovered|Active now|New deaths|New recovered|Deaths / 100 Cases|Recovered / 100 Cases|Deaths / 100 Recovered|Confirmed last week|1 week change|1 week % increase|WHO Region|Total confirmed cases|\n",
      "+--------------+---------+------+---------+----------+----------+-------------+------------------+---------------------+----------------------+-------------------+-------------+-----------------+----------+---------------------+\n",
      "+--------------+---------+------+---------+----------+----------+-------------+------------------+---------------------+----------------------+-------------------+-------------+-----------------+----------+---------------------+\n",
      "\n"
     ]
    }
   ],
   "source": [
    "df_pyspark = df_pyspark.filter(df_pyspark[\"Country/Region\"] !=\"India\")\n",
    "df_pyspark.where(df_pyspark[\"Country/Region\"]==\"India\").show()"
   ]
  },
  {
   "cell_type": "markdown",
   "id": "7ffa5302",
   "metadata": {},
   "source": [
    "Update a particular row"
   ]
  },
  {
   "cell_type": "code",
   "execution_count": 61,
   "id": "59a0cfe0",
   "metadata": {},
   "outputs": [
    {
     "name": "stdout",
     "output_type": "stream",
     "text": [
      "+--------------+---------+------+---------+----------+----------+-------------+------------------+---------------------+----------------------+-------------------+-------------+-----------------+---------------+---------------------+\n",
      "|Country/Region|Confirmed|Deaths|Recovered|Active now|New deaths|New recovered|Deaths / 100 Cases|Recovered / 100 Cases|Deaths / 100 Recovered|Confirmed last week|1 week change|1 week % increase|     WHO Region|Total confirmed cases|\n",
      "+--------------+---------+------+---------+----------+----------+-------------+------------------+---------------------+----------------------+-------------------+-------------+-----------------+---------------+---------------------+\n",
      "|     Australia|   989999|   167|     9311|      5825|         6|          137|              1.09|                60.84|                  1.79|              12428|         2875|            23.13|Western Pacific|              15671.0|\n",
      "+--------------+---------+------+---------+----------+----------+-------------+------------------+---------------------+----------------------+-------------------+-------------+-----------------+---------------+---------------------+\n",
      "\n"
     ]
    }
   ],
   "source": [
    "from pyspark.sql.functions import when,col\n",
    "\n",
    "df_pyspark = df_pyspark.withColumn(\"Confirmed\",when(col(\"Country/Region\")==\"Australia\",989999))\n",
    "df_pyspark.where(df_pyspark[\"Country/Region\"]==\"Australia\").show()"
   ]
  },
  {
   "cell_type": "markdown",
   "id": "e19557a1",
   "metadata": {},
   "source": [
    "Drop rows with any null"
   ]
  },
  {
   "cell_type": "code",
   "execution_count": 63,
   "id": "73ca60a9",
   "metadata": {},
   "outputs": [],
   "source": [
    "df_pyspark = df_pyspark.dropna()\n"
   ]
  },
  {
   "cell_type": "markdown",
   "id": "6cca3ecb",
   "metadata": {},
   "source": [
    "Drop if all columns are null:"
   ]
  },
  {
   "cell_type": "code",
   "execution_count": 64,
   "id": "8c81820b",
   "metadata": {},
   "outputs": [],
   "source": [
    "df_pyspark = df_pyspark.dropna(how=\"all\")"
   ]
  },
  {
   "cell_type": "markdown",
   "id": "4fb90d07",
   "metadata": {},
   "source": [
    "Fill null with a specific value:"
   ]
  },
  {
   "cell_type": "code",
   "execution_count": 65,
   "id": "93f13b13",
   "metadata": {},
   "outputs": [],
   "source": [
    "df_pyspark= df_pyspark.fillna(0)"
   ]
  },
  {
   "cell_type": "markdown",
   "id": "afa578ee",
   "metadata": {},
   "source": [
    "Drop Duplicates"
   ]
  },
  {
   "cell_type": "code",
   "execution_count": 66,
   "id": "bb947f4d",
   "metadata": {},
   "outputs": [],
   "source": [
    "df_pyspark=df_pyspark.dropDuplicates()"
   ]
  }
 ],
 "metadata": {
  "kernelspec": {
   "display_name": "Python 3",
   "language": "python",
   "name": "python3"
  },
  "language_info": {
   "codemirror_mode": {
    "name": "ipython",
    "version": 3
   },
   "file_extension": ".py",
   "mimetype": "text/x-python",
   "name": "python",
   "nbconvert_exporter": "python",
   "pygments_lexer": "ipython3",
   "version": "3.13.0"
  }
 },
 "nbformat": 4,
 "nbformat_minor": 5
}
